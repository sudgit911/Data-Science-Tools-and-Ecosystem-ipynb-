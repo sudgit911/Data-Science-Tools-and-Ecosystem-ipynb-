{
 "cells": [
  {
   "cell_type": "markdown",
   "id": "33a50d8d-7315-4691-a9a6-03e6bc06e696",
   "metadata": {},
   "source": [
    "# Data Science Tools and Ecosystem"
   ]
  },
  {
   "cell_type": "markdown",
   "id": "3297b496-4c65-461e-8f6d-6057f51b0aa2",
   "metadata": {},
   "source": [
    "### In this notebook, Data Science Tools and Ecosystem are summarized."
   ]
  },
  {
   "cell_type": "markdown",
   "id": "ac11b38e-d37c-4c33-aa87-4ca1b768d3f4",
   "metadata": {},
   "source": [
    "### **Objectives:**\n",
    "1. Some of the popular languages that Data Scientists use.\n",
    "2. Some of the commonly used libraries used by Data Scientist.\n",
    "3. Data Science Tools\n",
    "4. few examples of evaluating arithmetic expressions in Python.\n",
    "5. convert 200 minutes to hours by diving by 60"
   ]
  },
  {
   "cell_type": "markdown",
   "id": "7fa8209f-c3c4-4395-ae99-63c794184f4b",
   "metadata": {
    "tags": []
   },
   "source": [
    "#### Some of the popular languages that Data Scientists use are:\n",
    "1. Python\n",
    "2. R\n",
    "3. SQL"
   ]
  },
  {
   "cell_type": "markdown",
   "id": "285625b2-1dd9-4700-b51a-487ca424f0fd",
   "metadata": {
    "tags": []
   },
   "source": [
    "#### Some of the commonly used libraries used by Data Scientists include:\n",
    "1. Pandas\n",
    "2. Numpy\n",
    "3. Sci-kit learn"
   ]
  },
  {
   "cell_type": "markdown",
   "id": "e388e720-cf3e-4630-9e71-1cbd2177a023",
   "metadata": {},
   "source": [
    "|Data Science Tools|\n",
    "|------------------|\n",
    "| MySQL |\n",
    "| MongoDB |\n",
    "| Hadoop |"
   ]
  },
  {
   "cell_type": "markdown",
   "id": "7498bbda-ca59-4724-8dea-d16803f7cc03",
   "metadata": {},
   "source": [
    "### Below are a few examples of evaluating arithmetic expressions in Python\n"
   ]
  },
  {
   "cell_type": "code",
   "execution_count": 3,
   "id": "b5729c32-ec8d-4152-996c-fe386803a551",
   "metadata": {
    "tags": []
   },
   "outputs": [
    {
     "data": {
      "text/plain": [
       "17"
      ]
     },
     "execution_count": 3,
     "metadata": {},
     "output_type": "execute_result"
    }
   ],
   "source": [
    "# This a simple arithmetic expression to mutiply then add integers\n",
    "(3*4)+5"
   ]
  },
  {
   "cell_type": "code",
   "execution_count": 4,
   "id": "5e29ed31-ff68-4c1c-a7d8-bba287c8f9dd",
   "metadata": {
    "tags": []
   },
   "outputs": [
    {
     "name": "stdout",
     "output_type": "stream",
     "text": [
      "3.3333333333333335\n"
     ]
    }
   ],
   "source": [
    "#  This will convert 200 minutes to hours by diving by 60\n",
    "print(200/60)"
   ]
  },
  {
   "cell_type": "markdown",
   "id": "f886c78a-c27a-460c-b257-2a84bc30d0c6",
   "metadata": {},
   "source": [
    "## Author\n",
    "Sudarshan Ingale"
   ]
  }
 ],
 "metadata": {
  "kernelspec": {
   "display_name": "Python",
   "language": "python",
   "name": "conda-env-python-py"
  },
  "language_info": {
   "codemirror_mode": {
    "name": "ipython",
    "version": 3
   },
   "file_extension": ".py",
   "mimetype": "text/x-python",
   "name": "python",
   "nbconvert_exporter": "python",
   "pygments_lexer": "ipython3",
   "version": "3.7.12"
  }
 },
 "nbformat": 4,
 "nbformat_minor": 5
}
